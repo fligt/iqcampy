{
 "cells": [
  {
   "cell_type": "markdown",
   "metadata": {},
   "source": [
    "# Welcome to iqcampy\n",
    "\n",
    "> Read and visualize Specim IQcam hyperspectral images "
   ]
  },
  {
   "cell_type": "markdown",
   "metadata": {},
   "source": [
    "Our lab, the Rijkserfgoedlaboratorium in Amsterdam, recently acquired a light weight, mobile and user friendly Specim IQcam spectral camera for the investigation of artworks. The open source Python package `iqcampy` is developed in the open to learn how to read, visualize and interpret the spectral image data for this camera. \n",
    "\n",
    "We hope to release an installable package soon. If you are interested, and cannot wait, take a look at the documentation and Jupyter notebooks in his repository.  \n",
    "\n",
    "Let's dive in!! "
   ]
  }
 ],
 "metadata": {
  "kernelspec": {
   "display_name": "Python 3",
   "language": "python",
   "name": "python3"
  }
 },
 "nbformat": 4,
 "nbformat_minor": 4
}
