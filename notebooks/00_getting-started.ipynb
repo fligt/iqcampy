{
 "cells": [
  {
   "cell_type": "markdown",
   "metadata": {},
   "source": [
    "# Getting started with Python\n",
    "\n",
    "> Up and running in 10 minutes "
   ]
  },
  {
   "cell_type": "markdown",
   "metadata": {},
   "source": [
    "## Installing Anaconda Distribution \n",
    "\n",
    "Before you can install and use the `iqcampy` package you need to prepare your computer by setting up a python environment in which you can execute python code and install additional python packages. It is recommended to do this by downloading (581MB) and installing Anaconda Distribution. For installation instructions on Windows, Mac and Linux see: [https://docs.anaconda.com/anaconda/install/](https://docs.anaconda.com/anaconda/install/) \n",
    "\n",
    "Included are many powerful data science python packages, Jupyter notebooks and the python package manager program `pip`. You are now ready to install additional packages such as `iqcampy`. \n",
    "\n",
    "## Installing iqcampy\n",
    "\n",
    "Take a look at the Python Package Index at [https://pypi.org/](https://pypi.org/) and search for the python package that you need. In our case *iqcampy*. Open a terminal window (in the Windows start menu called *Anaconda Prompt*) and type the installation command and press enter: \n",
    "\n",
    "    pip install iqcampy \n",
    "    \n",
    "This command starts the python package manager program `pip` and tells it to fetch the package from the Python Package Index and install on your computer. You are now ready to run the code examples in a Jupyter notebook. \n",
    "\n",
    "If at some point in the future you would like to upgrade iqcampy to a newer version, execute the pip command with the upgrade `-U` flag: \n",
    "\n",
    "    pip install -U iqcampy \n",
    "\n",
    "## Run a Jupyter notebook \n",
    "\n",
    "Jupyter notebooks are files with the filename extension `.ipynb`. In the old days they were called **i**nteractive **py**thon **no**te**b**ooks, hence the extension. You can type and execute python code, and see the results, in these notebooks. Interaction with these notebooks works via a modern web browser such as Firefox or Chrome. I am not sure if other web browsers also work. To create and run a notebook you need to start a Jupyter Notebook server. On windows this is done by clicking on the `Jupyter Notebook` item in the start menu. Alternatively, you can start a notebook server by typing this command in a terminal: \n",
    "\n",
    "    jupyter notebook\n",
    "    \n",
    "The Jupyter Notebook server should open in your browser on the dashboard page. Although we see stuff appearing in the web browser, all processes are happening locally on your computer. Now you can select the folder you want to work in and create a new notebook with the `new` button.    \n",
    "\n",
    "\n",
    "## Execute a code cell\n",
    "\n",
    "The Jupyter ecosystem has expanded rapidly in the last years. I find this a bit confusing. So let's stick with the classic python Jupyter Notebook for now. \n",
    "\n",
    "Jupyter notebooks contain two types of cells: code cells and markdown cells. Try by typing `1 + 1` in a code cell. You can execute the code cell by simultaneously pressing `Shift` and `Enter`. More information is found in the help menu and on-line: https://jupyter.org/try. \n",
    "\n",
    "**That is it!** You can now move on to the next sections and try the code examples. "
   ]
  }
 ],
 "metadata": {
  "kernelspec": {
   "display_name": "python3",
   "language": "python",
   "name": "python3"
  }
 },
 "nbformat": 4,
 "nbformat_minor": 4
}
