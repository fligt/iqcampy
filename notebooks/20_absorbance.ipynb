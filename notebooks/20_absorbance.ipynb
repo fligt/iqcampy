{
 "cells": [
  {
   "cell_type": "raw",
   "metadata": {},
   "source": [
    "---\n",
    "skip_exec: true \n",
    "---"
   ]
  },
  {
   "cell_type": "code",
   "execution_count": null,
   "metadata": {},
   "outputs": [],
   "source": [
    "#|default_exp absorbance"
   ]
  },
  {
   "cell_type": "markdown",
   "metadata": {},
   "source": [
    "# From reflectance to absorbance \n",
    "\n",
    "> It is all transparent! "
   ]
  },
  {
   "cell_type": "markdown",
   "metadata": {},
   "source": [
    "The color physics of a transparent (i.e. non-scattering) dye layer on paper is described by its spectral transmission $T = I / I_{0}$ Given the transmission of a colored layer of unit thickness, we can compute the transmission of multiple layers by simply multiplying their transmission spectra! For example, if the amount of light at a certain wavelength is halved to 50% by a single layer, then adding a second layer will reduce the amount of transmitted light to 25%.    "
   ]
  },
  {
   "cell_type": "markdown",
   "metadata": {},
   "source": [
    "![Multiplying transmissions](images/optics_works_in_two_ways.svg)"
   ]
  },
  {
   "cell_type": "markdown",
   "metadata": {},
   "source": [
    "In mathematical terms this behavior is described by the Lambert-Beer law. This exponential equation relates the spectral transmission $T_n$ of stack of colored sheets to the spectral absorption coefficient $K_1$ of a single layer and the thickness $n$ of the stack. \n",
    "\n",
    "$$ T_n = \\frac{I}{I_0}= e^{-n K_{1}}$$"
   ]
  },
  {
   "cell_type": "markdown",
   "metadata": {},
   "source": [
    "This equation can be rewritten to calculate the absorbance spectrum $A$ for a given dye patch from the spectral reflectance $R$ of a dye patch and the spectral reflectance of the white paper background $R_g$. \n",
    "\n",
    "$$ A = nK_1 = -\\ln{\\frac{I}{I_0}} = -\\ln{\\frac{R}{R_g}}$$"
   ]
  },
  {
   "cell_type": "markdown",
   "metadata": {},
   "source": [
    "Conversion of reflectance spectra into absorbance spectra greatly simplifies calculations, because their shape only determined by the dye and is independent of concentration or thickness of the dye patch. Furthermore, absorbance is linear with concentration.     "
   ]
  },
  {
   "cell_type": "markdown",
   "metadata": {},
   "source": [
    "**To be continued...**"
   ]
  },
  {
   "cell_type": "code",
   "execution_count": null,
   "metadata": {},
   "outputs": [],
   "source": [
    "#|hide \n",
    "import os \n",
    "import matplotlib.pyplot as plt \n",
    "import numpy as np\n",
    "from iqcampy import read_darkref, read_whiteref, read_capture, compute_reflectance "
   ]
  },
  {
   "cell_type": "code",
   "execution_count": null,
   "metadata": {},
   "outputs": [],
   "source": [
    "#|hide \n",
    "os.chdir('/home/frank/Work/Projecten/dev/iqcampy/notebooks/downloads') \n",
    "\n",
    "data_path = 'iqcam_2021-02-03_005_4x-aquarelblauw-FL-01'\n",
    "\n",
    "dark_meta, nms, dark_spectrum = read_darkref(data_path)\n",
    "white_meta, nms, white_spectrum = read_whiteref(data_path)\n",
    "capture_meta, nms, capture_cube = read_capture(data_path) \n",
    "\n",
    "reflectance_cube = compute_reflectance(capture_cube, dark_spectrum, white_spectrum) \n",
    "pseudo_rgb = reflectance_cube[:,:, [70, 53, 19]] # red, green, blue \n",
    "\n",
    "# avoid clipping by normalizing \n",
    "pseudo_rgb = pseudo_rgb / pseudo_rgb.max()\n",
    "\n",
    "fig, [ax, ax1] = plt.subplots(ncols=2, figsize=[8, 5])\n",
    "ax.imshow(pseudo_rgb) \n",
    "ax.set_title('pseudo RGB');\n",
    "\n",
    "h, w = 450, 420\n",
    "\n",
    "ax1.imshow(pseudo_rgb[0:h, 0:420]) \n",
    "ax1.set_title('pseudo RGB (cropped)'); \n",
    "\n",
    "# For further computations we no longer need the white calibration tile, so let's crop to the paper area in the image first.  \n",
    "\n",
    "refl_cube = reflectance_cube[0:h, 0:w] # crop \n",
    "\n",
    "shape = refl_cube.shape\n",
    "\n",
    "shape\n",
    "\n",
    "refl_table = refl_cube.reshape([-1, 204])\n",
    "\n",
    "refl_table.shape\n",
    "\n",
    "white = np.max(refl_table, axis=0)\n",
    "\n",
    "fig, ax = plt.subplots()\n",
    "\n",
    "x = np.arange(len(white))\n",
    "\n",
    "ax.plot(nms, white)\n",
    "\n",
    "absorbance = -np.log(refl_cube / white[None, None, :])"
   ]
  }
 ],
 "metadata": {
  "kernelspec": {
   "display_name": "python3",
   "language": "python",
   "name": "python3"
  }
 },
 "nbformat": 4,
 "nbformat_minor": 4
}
